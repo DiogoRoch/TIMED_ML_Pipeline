{
 "cells": [
  {
   "cell_type": "code",
   "execution_count": 1,
   "id": "0fdbe026",
   "metadata": {},
   "outputs": [
    {
     "name": "stdout",
     "output_type": "stream",
     "text": [
      "Hello, Hello\n"
     ]
    }
   ],
   "source": [
    "print(\"Hello, Hello\")"
   ]
  },
  {
   "cell_type": "code",
   "execution_count": 2,
   "id": "34ca67f2",
   "metadata": {},
   "outputs": [],
   "source": [
    "import os"
   ]
  },
  {
   "cell_type": "code",
   "execution_count": 4,
   "id": "335494ee",
   "metadata": {},
   "outputs": [
    {
     "data": {
      "text/plain": [
       "'/Volumes/T7_Mac_Storage/python_projects/TIMED_ML_Pipeline'"
      ]
     },
     "execution_count": 4,
     "metadata": {},
     "output_type": "execute_result"
    }
   ],
   "source": [
    "os.chdir(\"..\")\n",
    "os.getcwd()"
   ]
  },
  {
   "cell_type": "code",
   "execution_count": null,
   "id": "fa1ceff0",
   "metadata": {},
   "outputs": [],
   "source": [
    "output_dir = \"output\"\n",
    "n_exps = len(os.listdir(output_dir))\n",
    "n_exps_alt = len(next(os.walk(output_dir))[1])"
   ]
  },
  {
   "cell_type": "code",
   "execution_count": null,
   "id": "6d83ca0e",
   "metadata": {},
   "outputs": [
    {
     "name": "stdout",
     "output_type": "stream",
     "text": [
      "0 0\n"
     ]
    }
   ],
   "source": [
    "print(n_exps, n_exps_alt)"
   ]
  }
 ],
 "metadata": {
  "kernelspec": {
   "display_name": "timed-ml-pipeline",
   "language": "python",
   "name": "python3"
  },
  "language_info": {
   "codemirror_mode": {
    "name": "ipython",
    "version": 3
   },
   "file_extension": ".py",
   "mimetype": "text/x-python",
   "name": "python",
   "nbconvert_exporter": "python",
   "pygments_lexer": "ipython3",
   "version": "3.11.8"
  }
 },
 "nbformat": 4,
 "nbformat_minor": 5
}
